{
  "nbformat": 4,
  "nbformat_minor": 0,
  "metadata": {
    "colab": {
      "provenance": [],
      "authorship_tag": "ABX9TyMYp/rnLsUXKvcyDNGQ4O6s",
      "include_colab_link": true
    },
    "kernelspec": {
      "name": "python3",
      "display_name": "Python 3"
    },
    "language_info": {
      "name": "python"
    }
  },
  "cells": [
    {
      "cell_type": "markdown",
      "metadata": {
        "id": "view-in-github",
        "colab_type": "text"
      },
      "source": [
        "<a href=\"https://colab.research.google.com/github/RaoMasood1/heart_disease_prediction_DL/blob/main/heart_disease_prediction_DL_.ipynb\" target=\"_parent\"><img src=\"https://colab.research.google.com/assets/colab-badge.svg\" alt=\"Open In Colab\"/></a>"
      ]
    },
    {
      "cell_type": "code",
      "execution_count": 1,
      "metadata": {
        "id": "u_pc9zkz6vaE"
      },
      "outputs": [],
      "source": [
        "import numpy as np\n",
        "import pandas as pd\n",
        "import tensorflow as tf\n",
        "from tensorflow import keras\n",
        "from sklearn.model_selection import train_test_split\n",
        "from sklearn.preprocessing import StandardScaler\n"
      ]
    },
    {
      "cell_type": "code",
      "source": [
        "# Load the dataset\n",
        "data = pd.read_csv('/content/Heart-Disease_Prediction.csv')\n",
        "\n",
        "# Split features and target\n",
        "X = data.drop('target', axis=1)\n",
        "y = data['target']\n",
        "\n",
        "# Split data into training and testing sets\n",
        "X_train, X_test, y_train, y_test = train_test_split(X, y, test_size=0.2, random_state=42)\n",
        "\n",
        "# Standardize the features\n",
        "scaler = StandardScaler()\n",
        "X_train_scaled = scaler.fit_transform(X_train)\n",
        "X_test_scaled = scaler.transform(X_test)\n"
      ],
      "metadata": {
        "id": "Ek2eMxOu7BNS"
      },
      "execution_count": 2,
      "outputs": []
    },
    {
      "cell_type": "code",
      "source": [
        "model = keras.Sequential([\n",
        "    keras.layers.Input(shape=(X_train_scaled.shape[1],)),\n",
        "    keras.layers.Dense(128, activation='relu'),\n",
        "    keras.layers.Dropout(0.2),\n",
        "    keras.layers.Dense(64, activation='relu'),\n",
        "    keras.layers.Dropout(0.2),\n",
        "    keras.layers.Dense(1, activation='sigmoid')\n",
        "])\n",
        "\n",
        "# Compile the model\n",
        "model.compile(optimizer='adam', loss='binary_crossentropy', metrics=['accuracy'])\n",
        "\n",
        "model.summary()\n"
      ],
      "metadata": {
        "colab": {
          "base_uri": "https://localhost:8080/"
        },
        "id": "BjCBLKbc7TX_",
        "outputId": "ff5b38f7-f2e7-461d-d168-f56125ce7700"
      },
      "execution_count": 3,
      "outputs": [
        {
          "output_type": "stream",
          "name": "stdout",
          "text": [
            "Model: \"sequential\"\n",
            "_________________________________________________________________\n",
            " Layer (type)                Output Shape              Param #   \n",
            "=================================================================\n",
            " dense (Dense)               (None, 128)               1792      \n",
            "                                                                 \n",
            " dropout (Dropout)           (None, 128)               0         \n",
            "                                                                 \n",
            " dense_1 (Dense)             (None, 64)                8256      \n",
            "                                                                 \n",
            " dropout_1 (Dropout)         (None, 64)                0         \n",
            "                                                                 \n",
            " dense_2 (Dense)             (None, 1)                 65        \n",
            "                                                                 \n",
            "=================================================================\n",
            "Total params: 10,113\n",
            "Trainable params: 10,113\n",
            "Non-trainable params: 0\n",
            "_________________________________________________________________\n"
          ]
        }
      ]
    },
    {
      "cell_type": "code",
      "source": [
        "history = model.fit(X_train_scaled, y_train, epochs=50, batch_size=32, validation_split=0.1)\n"
      ],
      "metadata": {
        "colab": {
          "base_uri": "https://localhost:8080/"
        },
        "id": "H-6bn2UO7X0p",
        "outputId": "ceb3823b-c819-4bec-98c2-cdc11d0859f7"
      },
      "execution_count": 4,
      "outputs": [
        {
          "output_type": "stream",
          "name": "stdout",
          "text": [
            "Epoch 1/50\n",
            "7/7 [==============================] - 1s 45ms/step - loss: 0.6510 - accuracy: 0.6221 - val_loss: 0.5388 - val_accuracy: 0.8400\n",
            "Epoch 2/50\n",
            "7/7 [==============================] - 0s 12ms/step - loss: 0.5582 - accuracy: 0.7235 - val_loss: 0.4724 - val_accuracy: 0.8400\n",
            "Epoch 3/50\n",
            "7/7 [==============================] - 0s 9ms/step - loss: 0.4845 - accuracy: 0.7834 - val_loss: 0.4208 - val_accuracy: 0.8400\n",
            "Epoch 4/50\n",
            "7/7 [==============================] - 0s 11ms/step - loss: 0.4447 - accuracy: 0.7788 - val_loss: 0.3889 - val_accuracy: 0.8400\n",
            "Epoch 5/50\n",
            "7/7 [==============================] - 0s 8ms/step - loss: 0.4140 - accuracy: 0.8157 - val_loss: 0.3678 - val_accuracy: 0.8400\n",
            "Epoch 6/50\n",
            "7/7 [==============================] - 0s 9ms/step - loss: 0.3838 - accuracy: 0.8157 - val_loss: 0.3582 - val_accuracy: 0.8400\n",
            "Epoch 7/50\n",
            "7/7 [==============================] - 0s 9ms/step - loss: 0.3710 - accuracy: 0.8387 - val_loss: 0.3474 - val_accuracy: 0.8800\n",
            "Epoch 8/50\n",
            "7/7 [==============================] - 0s 9ms/step - loss: 0.3511 - accuracy: 0.8295 - val_loss: 0.3405 - val_accuracy: 0.8800\n",
            "Epoch 9/50\n",
            "7/7 [==============================] - 0s 11ms/step - loss: 0.3357 - accuracy: 0.8341 - val_loss: 0.3403 - val_accuracy: 0.8800\n",
            "Epoch 10/50\n",
            "7/7 [==============================] - 0s 8ms/step - loss: 0.3209 - accuracy: 0.8756 - val_loss: 0.3377 - val_accuracy: 0.9200\n",
            "Epoch 11/50\n",
            "7/7 [==============================] - 0s 8ms/step - loss: 0.3181 - accuracy: 0.8295 - val_loss: 0.3345 - val_accuracy: 0.9200\n",
            "Epoch 12/50\n",
            "7/7 [==============================] - 0s 11ms/step - loss: 0.3019 - accuracy: 0.8664 - val_loss: 0.3348 - val_accuracy: 0.9200\n",
            "Epoch 13/50\n",
            "7/7 [==============================] - 0s 12ms/step - loss: 0.3050 - accuracy: 0.8848 - val_loss: 0.3366 - val_accuracy: 0.8400\n",
            "Epoch 14/50\n",
            "7/7 [==============================] - 0s 11ms/step - loss: 0.2809 - accuracy: 0.8940 - val_loss: 0.3382 - val_accuracy: 0.8400\n",
            "Epoch 15/50\n",
            "7/7 [==============================] - 0s 11ms/step - loss: 0.2910 - accuracy: 0.8848 - val_loss: 0.3345 - val_accuracy: 0.8400\n",
            "Epoch 16/50\n",
            "7/7 [==============================] - 0s 9ms/step - loss: 0.2838 - accuracy: 0.8664 - val_loss: 0.3358 - val_accuracy: 0.8400\n",
            "Epoch 17/50\n",
            "7/7 [==============================] - 0s 11ms/step - loss: 0.2761 - accuracy: 0.8848 - val_loss: 0.3363 - val_accuracy: 0.8400\n",
            "Epoch 18/50\n",
            "7/7 [==============================] - 0s 9ms/step - loss: 0.2774 - accuracy: 0.8848 - val_loss: 0.3482 - val_accuracy: 0.8400\n",
            "Epoch 19/50\n",
            "7/7 [==============================] - 0s 11ms/step - loss: 0.2683 - accuracy: 0.8940 - val_loss: 0.3534 - val_accuracy: 0.8400\n",
            "Epoch 20/50\n",
            "7/7 [==============================] - 0s 10ms/step - loss: 0.2586 - accuracy: 0.9032 - val_loss: 0.3504 - val_accuracy: 0.8400\n",
            "Epoch 21/50\n",
            "7/7 [==============================] - 0s 9ms/step - loss: 0.2541 - accuracy: 0.8894 - val_loss: 0.3517 - val_accuracy: 0.8400\n",
            "Epoch 22/50\n",
            "7/7 [==============================] - 0s 9ms/step - loss: 0.2604 - accuracy: 0.8940 - val_loss: 0.3570 - val_accuracy: 0.8400\n",
            "Epoch 23/50\n",
            "7/7 [==============================] - 0s 11ms/step - loss: 0.2380 - accuracy: 0.9124 - val_loss: 0.3575 - val_accuracy: 0.8400\n",
            "Epoch 24/50\n",
            "7/7 [==============================] - 0s 12ms/step - loss: 0.2406 - accuracy: 0.9078 - val_loss: 0.3626 - val_accuracy: 0.8400\n",
            "Epoch 25/50\n",
            "7/7 [==============================] - 0s 12ms/step - loss: 0.2157 - accuracy: 0.9171 - val_loss: 0.3639 - val_accuracy: 0.8400\n",
            "Epoch 26/50\n",
            "7/7 [==============================] - 0s 10ms/step - loss: 0.2213 - accuracy: 0.9124 - val_loss: 0.3632 - val_accuracy: 0.8400\n",
            "Epoch 27/50\n",
            "7/7 [==============================] - 0s 13ms/step - loss: 0.2096 - accuracy: 0.9263 - val_loss: 0.3677 - val_accuracy: 0.8400\n",
            "Epoch 28/50\n",
            "7/7 [==============================] - 0s 12ms/step - loss: 0.1970 - accuracy: 0.9355 - val_loss: 0.3808 - val_accuracy: 0.8400\n",
            "Epoch 29/50\n",
            "7/7 [==============================] - 0s 8ms/step - loss: 0.1947 - accuracy: 0.9355 - val_loss: 0.3966 - val_accuracy: 0.8400\n",
            "Epoch 30/50\n",
            "7/7 [==============================] - 0s 8ms/step - loss: 0.1974 - accuracy: 0.9171 - val_loss: 0.3956 - val_accuracy: 0.8400\n",
            "Epoch 31/50\n",
            "7/7 [==============================] - 0s 8ms/step - loss: 0.2192 - accuracy: 0.9078 - val_loss: 0.3869 - val_accuracy: 0.8400\n",
            "Epoch 32/50\n",
            "7/7 [==============================] - 0s 8ms/step - loss: 0.1971 - accuracy: 0.9263 - val_loss: 0.3850 - val_accuracy: 0.8400\n",
            "Epoch 33/50\n",
            "7/7 [==============================] - 0s 12ms/step - loss: 0.1770 - accuracy: 0.9309 - val_loss: 0.3906 - val_accuracy: 0.8400\n",
            "Epoch 34/50\n",
            "7/7 [==============================] - 0s 8ms/step - loss: 0.1930 - accuracy: 0.9355 - val_loss: 0.3973 - val_accuracy: 0.8400\n",
            "Epoch 35/50\n",
            "7/7 [==============================] - 0s 9ms/step - loss: 0.1860 - accuracy: 0.9217 - val_loss: 0.4043 - val_accuracy: 0.8400\n",
            "Epoch 36/50\n",
            "7/7 [==============================] - 0s 10ms/step - loss: 0.1894 - accuracy: 0.9355 - val_loss: 0.4091 - val_accuracy: 0.8400\n",
            "Epoch 37/50\n",
            "7/7 [==============================] - 0s 9ms/step - loss: 0.2033 - accuracy: 0.9217 - val_loss: 0.4143 - val_accuracy: 0.8400\n",
            "Epoch 38/50\n",
            "7/7 [==============================] - 0s 12ms/step - loss: 0.1490 - accuracy: 0.9585 - val_loss: 0.4170 - val_accuracy: 0.8400\n",
            "Epoch 39/50\n",
            "7/7 [==============================] - 0s 11ms/step - loss: 0.1742 - accuracy: 0.9355 - val_loss: 0.4154 - val_accuracy: 0.8400\n",
            "Epoch 40/50\n",
            "7/7 [==============================] - 0s 8ms/step - loss: 0.1652 - accuracy: 0.9447 - val_loss: 0.4230 - val_accuracy: 0.8400\n",
            "Epoch 41/50\n",
            "7/7 [==============================] - 0s 10ms/step - loss: 0.1601 - accuracy: 0.9493 - val_loss: 0.4267 - val_accuracy: 0.8400\n",
            "Epoch 42/50\n",
            "7/7 [==============================] - 0s 12ms/step - loss: 0.1441 - accuracy: 0.9585 - val_loss: 0.4385 - val_accuracy: 0.8400\n",
            "Epoch 43/50\n",
            "7/7 [==============================] - 0s 10ms/step - loss: 0.1641 - accuracy: 0.9217 - val_loss: 0.4471 - val_accuracy: 0.8400\n",
            "Epoch 44/50\n",
            "7/7 [==============================] - 0s 8ms/step - loss: 0.1459 - accuracy: 0.9493 - val_loss: 0.4515 - val_accuracy: 0.8400\n",
            "Epoch 45/50\n",
            "7/7 [==============================] - 0s 11ms/step - loss: 0.1304 - accuracy: 0.9539 - val_loss: 0.4652 - val_accuracy: 0.8000\n",
            "Epoch 46/50\n",
            "7/7 [==============================] - 0s 13ms/step - loss: 0.1330 - accuracy: 0.9585 - val_loss: 0.4778 - val_accuracy: 0.8000\n",
            "Epoch 47/50\n",
            "7/7 [==============================] - 0s 12ms/step - loss: 0.1456 - accuracy: 0.9447 - val_loss: 0.4728 - val_accuracy: 0.8000\n",
            "Epoch 48/50\n",
            "7/7 [==============================] - 0s 8ms/step - loss: 0.1254 - accuracy: 0.9631 - val_loss: 0.4761 - val_accuracy: 0.8400\n",
            "Epoch 49/50\n",
            "7/7 [==============================] - 0s 12ms/step - loss: 0.1380 - accuracy: 0.9539 - val_loss: 0.5016 - val_accuracy: 0.8400\n",
            "Epoch 50/50\n",
            "7/7 [==============================] - 0s 11ms/step - loss: 0.1498 - accuracy: 0.9447 - val_loss: 0.4839 - val_accuracy: 0.8400\n"
          ]
        }
      ]
    },
    {
      "cell_type": "code",
      "source": [
        "loss, accuracy = model.evaluate(X_test_scaled, y_test)\n",
        "print(f'Test accuracy: {accuracy:.4f}')\n"
      ],
      "metadata": {
        "colab": {
          "base_uri": "https://localhost:8080/"
        },
        "id": "7MPQ5M8M7aLJ",
        "outputId": "722e26bf-ba0d-455e-d9f5-28d013571026"
      },
      "execution_count": 5,
      "outputs": [
        {
          "output_type": "stream",
          "name": "stdout",
          "text": [
            "2/2 [==============================] - 0s 10ms/step - loss: 0.6191 - accuracy: 0.8525\n",
            "Test accuracy: 0.8525\n"
          ]
        }
      ]
    }
  ]
}